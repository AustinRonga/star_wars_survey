{
 "cells": [
  {
   "cell_type": "markdown",
   "metadata": {},
   "source": [
    "# Star Wars Survey\n",
    "\n",
    "[Star Wars](https://en.wikipedia.org/wiki/Star_Wars) is a franchies containing awide array of films, books, television series, video games, and more. Popular in the American pop-culture Zeitgeist, whose introduction in 1977 helped to bring science fiction to the forefront of the cultural eye; being enjoyed by a significantly wider demographic of people allowed for a boom in sci-fi media in the mainstream media. In 2014, just prior to the release of [Star Wars: The Force Awakens](https://en.wikipedia.org/wiki/Star_Wars:_The_Force_Awakens), [FiveThirtyEight](fivethirtyeight.com) collected data in a survey about how the general public views Star Wars. The goal of the survy was to find out the answer to the question: \"<b>Does the rest of America realize that 'The Empire Strikes Back' is clearly the best of the bunch?</b>\". The data for the survey that we'll be using can be found [here](https://github.com/fivethirtyeight/data/blob/master/star-wars-survey/StarWars.csv).\n"
   ]
  },
  {
   "cell_type": "markdown",
   "metadata": {},
   "source": [
    "# Contents\n",
    " 1. [Data Introduction](#Data): A breakdown of the data being used in this project. \n",
    " 2. [Goal](#Goal): An explanation of the intended accomplishments.\n",
    " 3. [Getting Started](#get_start): Reading in the data, cleaning, and amalgamating it.\n",
    " 4. [The Search for Deeper Cleaning in Life](#deep_clean): Cleaning the data for analysis. \n",
    " 5. [Recombination and Spot Cleaning](#spot_sweep): General analysis and minor tweaks.\n",
    " 6. [Demographics and Favorites](#demographics): Analyzing the average ranking, seen percentage, favorite characters, and Star Wars/Trek preference across demographics.<br>\n",
    "&emsp;&emsp;a. [Sex](#sex_data)<br>\n",
    "&emsp;&emsp;b. [Age](#age_data)<br>\n",
    "&emsp;&emsp;c. [Household Income](#income_data)<br>\n",
    "&emsp;&emsp;d. [Education](#education_data)<br>"
   ]
  },
  {
   "cell_type": "markdown",
   "metadata": {},
   "source": [
    "<a id=\"Data\"></a>\n",
    "## Data Introduction\n",
    "The data has several columns, including:\n",
    "\n",
    "- `RespondentID` - An anonymized ID for the respondent (person taking the survey)\n",
    "- `Gender` - The respondent's gender\n",
    "- `Age` - The respondent's age\n",
    "- `Household Income` - The respondent's income\n",
    "- `Education` - The respondent's education level\n",
    "- `Location (Census Region)` - The respondent's location\n",
    "- `Have you seen any of the 6 films in the Star Wars franchise?` - Has a Yes or No response\n",
    "- `Do you consider yourself to be a fan of the Star Wars film franchise?` - Has a Yes or No response\n",
    "- `Please state whether you view the following characters favorably, unfavorably, or are unfamiliar with him/her.` - Lists 13 Characters"
   ]
  },
  {
   "cell_type": "markdown",
   "metadata": {},
   "source": [
    "<a id=\"Goal\"></a>\n",
    "## Goal\n",
    "Aside from checking to see the answer to the question FiveThirtyEight posed, which is one of the goals, we will be exploring this data to see what else we can glean from this data. We will seek to answer questions such as the following: \n",
    "\n",
    "- Does socioeconomics play a role in the appeal of Star Wars? Favorite characters?\n",
    "- What about Gender? Age? Education? \n",
    "- Is there an overall obviously worst movie? Character? \n",
    "- What kind of people <i>don't</i> watch Star Wars?"
   ]
  },
  {
   "cell_type": "markdown",
   "metadata": {},
   "source": [
    "<a id=\"get_start\"></a>\n",
    "## Getting Started\n"
   ]
  },
  {
   "cell_type": "code",
   "execution_count": 1,
   "metadata": {},
   "outputs": [
    {
     "data": {
      "text/html": [
       "<div>\n",
       "<style scoped>\n",
       "    .dataframe tbody tr th:only-of-type {\n",
       "        vertical-align: middle;\n",
       "    }\n",
       "\n",
       "    .dataframe tbody tr th {\n",
       "        vertical-align: top;\n",
       "    }\n",
       "\n",
       "    .dataframe thead th {\n",
       "        text-align: right;\n",
       "    }\n",
       "</style>\n",
       "<table border=\"1\" class=\"dataframe\">\n",
       "  <thead>\n",
       "    <tr style=\"text-align: right;\">\n",
       "      <th></th>\n",
       "      <th>RespondentID</th>\n",
       "      <th>Have you seen any of the 6 films in the Star Wars franchise?</th>\n",
       "      <th>Do you consider yourself to be a fan of the Star Wars film franchise?</th>\n",
       "      <th>Which of the following Star Wars films have you seen? Please select all that apply.</th>\n",
       "      <th>Unnamed: 4</th>\n",
       "      <th>Unnamed: 5</th>\n",
       "      <th>Unnamed: 6</th>\n",
       "      <th>Unnamed: 7</th>\n",
       "      <th>Unnamed: 8</th>\n",
       "      <th>Please rank the Star Wars films in order of preference with 1 being your favorite film in the franchise and 6 being your least favorite film.</th>\n",
       "      <th>...</th>\n",
       "      <th>Unnamed: 28</th>\n",
       "      <th>Which character shot first?</th>\n",
       "      <th>Are you familiar with the Expanded Universe?</th>\n",
       "      <th>Do you consider yourself to be a fan of the Expanded Universe?æ</th>\n",
       "      <th>Do you consider yourself to be a fan of the Star Trek franchise?</th>\n",
       "      <th>Gender</th>\n",
       "      <th>Age</th>\n",
       "      <th>Household Income</th>\n",
       "      <th>Education</th>\n",
       "      <th>Location (Census Region)</th>\n",
       "    </tr>\n",
       "  </thead>\n",
       "  <tbody>\n",
       "    <tr>\n",
       "      <th>0</th>\n",
       "      <td>NaN</td>\n",
       "      <td>Response</td>\n",
       "      <td>Response</td>\n",
       "      <td>Star Wars: Episode I  The Phantom Menace</td>\n",
       "      <td>Star Wars: Episode II  Attack of the Clones</td>\n",
       "      <td>Star Wars: Episode III  Revenge of the Sith</td>\n",
       "      <td>Star Wars: Episode IV  A New Hope</td>\n",
       "      <td>Star Wars: Episode V The Empire Strikes Back</td>\n",
       "      <td>Star Wars: Episode VI Return of the Jedi</td>\n",
       "      <td>Star Wars: Episode I  The Phantom Menace</td>\n",
       "      <td>...</td>\n",
       "      <td>Yoda</td>\n",
       "      <td>Response</td>\n",
       "      <td>Response</td>\n",
       "      <td>Response</td>\n",
       "      <td>Response</td>\n",
       "      <td>Response</td>\n",
       "      <td>Response</td>\n",
       "      <td>Response</td>\n",
       "      <td>Response</td>\n",
       "      <td>Response</td>\n",
       "    </tr>\n",
       "    <tr>\n",
       "      <th>1</th>\n",
       "      <td>3.292880e+09</td>\n",
       "      <td>Yes</td>\n",
       "      <td>Yes</td>\n",
       "      <td>Star Wars: Episode I  The Phantom Menace</td>\n",
       "      <td>Star Wars: Episode II  Attack of the Clones</td>\n",
       "      <td>Star Wars: Episode III  Revenge of the Sith</td>\n",
       "      <td>Star Wars: Episode IV  A New Hope</td>\n",
       "      <td>Star Wars: Episode V The Empire Strikes Back</td>\n",
       "      <td>Star Wars: Episode VI Return of the Jedi</td>\n",
       "      <td>3</td>\n",
       "      <td>...</td>\n",
       "      <td>Very favorably</td>\n",
       "      <td>I don't understand this question</td>\n",
       "      <td>Yes</td>\n",
       "      <td>No</td>\n",
       "      <td>No</td>\n",
       "      <td>Male</td>\n",
       "      <td>18-29</td>\n",
       "      <td>NaN</td>\n",
       "      <td>High school degree</td>\n",
       "      <td>South Atlantic</td>\n",
       "    </tr>\n",
       "    <tr>\n",
       "      <th>2</th>\n",
       "      <td>3.292880e+09</td>\n",
       "      <td>No</td>\n",
       "      <td>NaN</td>\n",
       "      <td>NaN</td>\n",
       "      <td>NaN</td>\n",
       "      <td>NaN</td>\n",
       "      <td>NaN</td>\n",
       "      <td>NaN</td>\n",
       "      <td>NaN</td>\n",
       "      <td>NaN</td>\n",
       "      <td>...</td>\n",
       "      <td>NaN</td>\n",
       "      <td>NaN</td>\n",
       "      <td>NaN</td>\n",
       "      <td>NaN</td>\n",
       "      <td>Yes</td>\n",
       "      <td>Male</td>\n",
       "      <td>18-29</td>\n",
       "      <td>$0 - $24,999</td>\n",
       "      <td>Bachelor degree</td>\n",
       "      <td>West South Central</td>\n",
       "    </tr>\n",
       "    <tr>\n",
       "      <th>3</th>\n",
       "      <td>3.292765e+09</td>\n",
       "      <td>Yes</td>\n",
       "      <td>No</td>\n",
       "      <td>Star Wars: Episode I  The Phantom Menace</td>\n",
       "      <td>Star Wars: Episode II  Attack of the Clones</td>\n",
       "      <td>Star Wars: Episode III  Revenge of the Sith</td>\n",
       "      <td>NaN</td>\n",
       "      <td>NaN</td>\n",
       "      <td>NaN</td>\n",
       "      <td>1</td>\n",
       "      <td>...</td>\n",
       "      <td>Unfamiliar (N/A)</td>\n",
       "      <td>I don't understand this question</td>\n",
       "      <td>No</td>\n",
       "      <td>NaN</td>\n",
       "      <td>No</td>\n",
       "      <td>Male</td>\n",
       "      <td>18-29</td>\n",
       "      <td>$0 - $24,999</td>\n",
       "      <td>High school degree</td>\n",
       "      <td>West North Central</td>\n",
       "    </tr>\n",
       "    <tr>\n",
       "      <th>4</th>\n",
       "      <td>3.292763e+09</td>\n",
       "      <td>Yes</td>\n",
       "      <td>Yes</td>\n",
       "      <td>Star Wars: Episode I  The Phantom Menace</td>\n",
       "      <td>Star Wars: Episode II  Attack of the Clones</td>\n",
       "      <td>Star Wars: Episode III  Revenge of the Sith</td>\n",
       "      <td>Star Wars: Episode IV  A New Hope</td>\n",
       "      <td>Star Wars: Episode V The Empire Strikes Back</td>\n",
       "      <td>Star Wars: Episode VI Return of the Jedi</td>\n",
       "      <td>5</td>\n",
       "      <td>...</td>\n",
       "      <td>Very favorably</td>\n",
       "      <td>I don't understand this question</td>\n",
       "      <td>No</td>\n",
       "      <td>NaN</td>\n",
       "      <td>Yes</td>\n",
       "      <td>Male</td>\n",
       "      <td>18-29</td>\n",
       "      <td>$100,000 - $149,999</td>\n",
       "      <td>Some college or Associate degree</td>\n",
       "      <td>West North Central</td>\n",
       "    </tr>\n",
       "    <tr>\n",
       "      <th>5</th>\n",
       "      <td>3.292731e+09</td>\n",
       "      <td>Yes</td>\n",
       "      <td>Yes</td>\n",
       "      <td>Star Wars: Episode I  The Phantom Menace</td>\n",
       "      <td>Star Wars: Episode II  Attack of the Clones</td>\n",
       "      <td>Star Wars: Episode III  Revenge of the Sith</td>\n",
       "      <td>Star Wars: Episode IV  A New Hope</td>\n",
       "      <td>Star Wars: Episode V The Empire Strikes Back</td>\n",
       "      <td>Star Wars: Episode VI Return of the Jedi</td>\n",
       "      <td>5</td>\n",
       "      <td>...</td>\n",
       "      <td>Somewhat favorably</td>\n",
       "      <td>Greedo</td>\n",
       "      <td>Yes</td>\n",
       "      <td>No</td>\n",
       "      <td>No</td>\n",
       "      <td>Male</td>\n",
       "      <td>18-29</td>\n",
       "      <td>$100,000 - $149,999</td>\n",
       "      <td>Some college or Associate degree</td>\n",
       "      <td>West North Central</td>\n",
       "    </tr>\n",
       "    <tr>\n",
       "      <th>6</th>\n",
       "      <td>3.292719e+09</td>\n",
       "      <td>Yes</td>\n",
       "      <td>Yes</td>\n",
       "      <td>Star Wars: Episode I  The Phantom Menace</td>\n",
       "      <td>Star Wars: Episode II  Attack of the Clones</td>\n",
       "      <td>Star Wars: Episode III  Revenge of the Sith</td>\n",
       "      <td>Star Wars: Episode IV  A New Hope</td>\n",
       "      <td>Star Wars: Episode V The Empire Strikes Back</td>\n",
       "      <td>Star Wars: Episode VI Return of the Jedi</td>\n",
       "      <td>1</td>\n",
       "      <td>...</td>\n",
       "      <td>Very favorably</td>\n",
       "      <td>Han</td>\n",
       "      <td>Yes</td>\n",
       "      <td>No</td>\n",
       "      <td>Yes</td>\n",
       "      <td>Male</td>\n",
       "      <td>18-29</td>\n",
       "      <td>$25,000 - $49,999</td>\n",
       "      <td>Bachelor degree</td>\n",
       "      <td>Middle Atlantic</td>\n",
       "    </tr>\n",
       "    <tr>\n",
       "      <th>7</th>\n",
       "      <td>3.292685e+09</td>\n",
       "      <td>Yes</td>\n",
       "      <td>Yes</td>\n",
       "      <td>Star Wars: Episode I  The Phantom Menace</td>\n",
       "      <td>Star Wars: Episode II  Attack of the Clones</td>\n",
       "      <td>Star Wars: Episode III  Revenge of the Sith</td>\n",
       "      <td>Star Wars: Episode IV  A New Hope</td>\n",
       "      <td>Star Wars: Episode V The Empire Strikes Back</td>\n",
       "      <td>Star Wars: Episode VI Return of the Jedi</td>\n",
       "      <td>6</td>\n",
       "      <td>...</td>\n",
       "      <td>Very favorably</td>\n",
       "      <td>Han</td>\n",
       "      <td>Yes</td>\n",
       "      <td>No</td>\n",
       "      <td>No</td>\n",
       "      <td>Male</td>\n",
       "      <td>18-29</td>\n",
       "      <td>NaN</td>\n",
       "      <td>High school degree</td>\n",
       "      <td>East North Central</td>\n",
       "    </tr>\n",
       "    <tr>\n",
       "      <th>8</th>\n",
       "      <td>3.292664e+09</td>\n",
       "      <td>Yes</td>\n",
       "      <td>Yes</td>\n",
       "      <td>Star Wars: Episode I  The Phantom Menace</td>\n",
       "      <td>Star Wars: Episode II  Attack of the Clones</td>\n",
       "      <td>Star Wars: Episode III  Revenge of the Sith</td>\n",
       "      <td>Star Wars: Episode IV  A New Hope</td>\n",
       "      <td>Star Wars: Episode V The Empire Strikes Back</td>\n",
       "      <td>Star Wars: Episode VI Return of the Jedi</td>\n",
       "      <td>4</td>\n",
       "      <td>...</td>\n",
       "      <td>Very favorably</td>\n",
       "      <td>Han</td>\n",
       "      <td>No</td>\n",
       "      <td>NaN</td>\n",
       "      <td>Yes</td>\n",
       "      <td>Male</td>\n",
       "      <td>18-29</td>\n",
       "      <td>NaN</td>\n",
       "      <td>High school degree</td>\n",
       "      <td>South Atlantic</td>\n",
       "    </tr>\n",
       "    <tr>\n",
       "      <th>9</th>\n",
       "      <td>3.292654e+09</td>\n",
       "      <td>Yes</td>\n",
       "      <td>Yes</td>\n",
       "      <td>Star Wars: Episode I  The Phantom Menace</td>\n",
       "      <td>Star Wars: Episode II  Attack of the Clones</td>\n",
       "      <td>Star Wars: Episode III  Revenge of the Sith</td>\n",
       "      <td>Star Wars: Episode IV  A New Hope</td>\n",
       "      <td>Star Wars: Episode V The Empire Strikes Back</td>\n",
       "      <td>Star Wars: Episode VI Return of the Jedi</td>\n",
       "      <td>5</td>\n",
       "      <td>...</td>\n",
       "      <td>Somewhat favorably</td>\n",
       "      <td>Han</td>\n",
       "      <td>No</td>\n",
       "      <td>NaN</td>\n",
       "      <td>No</td>\n",
       "      <td>Male</td>\n",
       "      <td>18-29</td>\n",
       "      <td>$0 - $24,999</td>\n",
       "      <td>Some college or Associate degree</td>\n",
       "      <td>South Atlantic</td>\n",
       "    </tr>\n",
       "  </tbody>\n",
       "</table>\n",
       "<p>10 rows × 38 columns</p>\n",
       "</div>"
      ],
      "text/plain": [
       "   RespondentID Have you seen any of the 6 films in the Star Wars franchise?  \\\n",
       "0           NaN                                           Response             \n",
       "1  3.292880e+09                                                Yes             \n",
       "2  3.292880e+09                                                 No             \n",
       "3  3.292765e+09                                                Yes             \n",
       "4  3.292763e+09                                                Yes             \n",
       "5  3.292731e+09                                                Yes             \n",
       "6  3.292719e+09                                                Yes             \n",
       "7  3.292685e+09                                                Yes             \n",
       "8  3.292664e+09                                                Yes             \n",
       "9  3.292654e+09                                                Yes             \n",
       "\n",
       "  Do you consider yourself to be a fan of the Star Wars film franchise?  \\\n",
       "0                                           Response                      \n",
       "1                                                Yes                      \n",
       "2                                                NaN                      \n",
       "3                                                 No                      \n",
       "4                                                Yes                      \n",
       "5                                                Yes                      \n",
       "6                                                Yes                      \n",
       "7                                                Yes                      \n",
       "8                                                Yes                      \n",
       "9                                                Yes                      \n",
       "\n",
       "  Which of the following Star Wars films have you seen? Please select all that apply.  \\\n",
       "0           Star Wars: Episode I  The Phantom Menace                                    \n",
       "1           Star Wars: Episode I  The Phantom Menace                                    \n",
       "2                                                NaN                                    \n",
       "3           Star Wars: Episode I  The Phantom Menace                                    \n",
       "4           Star Wars: Episode I  The Phantom Menace                                    \n",
       "5           Star Wars: Episode I  The Phantom Menace                                    \n",
       "6           Star Wars: Episode I  The Phantom Menace                                    \n",
       "7           Star Wars: Episode I  The Phantom Menace                                    \n",
       "8           Star Wars: Episode I  The Phantom Menace                                    \n",
       "9           Star Wars: Episode I  The Phantom Menace                                    \n",
       "\n",
       "                                    Unnamed: 4  \\\n",
       "0  Star Wars: Episode II  Attack of the Clones   \n",
       "1  Star Wars: Episode II  Attack of the Clones   \n",
       "2                                          NaN   \n",
       "3  Star Wars: Episode II  Attack of the Clones   \n",
       "4  Star Wars: Episode II  Attack of the Clones   \n",
       "5  Star Wars: Episode II  Attack of the Clones   \n",
       "6  Star Wars: Episode II  Attack of the Clones   \n",
       "7  Star Wars: Episode II  Attack of the Clones   \n",
       "8  Star Wars: Episode II  Attack of the Clones   \n",
       "9  Star Wars: Episode II  Attack of the Clones   \n",
       "\n",
       "                                    Unnamed: 5  \\\n",
       "0  Star Wars: Episode III  Revenge of the Sith   \n",
       "1  Star Wars: Episode III  Revenge of the Sith   \n",
       "2                                          NaN   \n",
       "3  Star Wars: Episode III  Revenge of the Sith   \n",
       "4  Star Wars: Episode III  Revenge of the Sith   \n",
       "5  Star Wars: Episode III  Revenge of the Sith   \n",
       "6  Star Wars: Episode III  Revenge of the Sith   \n",
       "7  Star Wars: Episode III  Revenge of the Sith   \n",
       "8  Star Wars: Episode III  Revenge of the Sith   \n",
       "9  Star Wars: Episode III  Revenge of the Sith   \n",
       "\n",
       "                          Unnamed: 6  \\\n",
       "0  Star Wars: Episode IV  A New Hope   \n",
       "1  Star Wars: Episode IV  A New Hope   \n",
       "2                                NaN   \n",
       "3                                NaN   \n",
       "4  Star Wars: Episode IV  A New Hope   \n",
       "5  Star Wars: Episode IV  A New Hope   \n",
       "6  Star Wars: Episode IV  A New Hope   \n",
       "7  Star Wars: Episode IV  A New Hope   \n",
       "8  Star Wars: Episode IV  A New Hope   \n",
       "9  Star Wars: Episode IV  A New Hope   \n",
       "\n",
       "                                     Unnamed: 7  \\\n",
       "0  Star Wars: Episode V The Empire Strikes Back   \n",
       "1  Star Wars: Episode V The Empire Strikes Back   \n",
       "2                                           NaN   \n",
       "3                                           NaN   \n",
       "4  Star Wars: Episode V The Empire Strikes Back   \n",
       "5  Star Wars: Episode V The Empire Strikes Back   \n",
       "6  Star Wars: Episode V The Empire Strikes Back   \n",
       "7  Star Wars: Episode V The Empire Strikes Back   \n",
       "8  Star Wars: Episode V The Empire Strikes Back   \n",
       "9  Star Wars: Episode V The Empire Strikes Back   \n",
       "\n",
       "                                 Unnamed: 8  \\\n",
       "0  Star Wars: Episode VI Return of the Jedi   \n",
       "1  Star Wars: Episode VI Return of the Jedi   \n",
       "2                                       NaN   \n",
       "3                                       NaN   \n",
       "4  Star Wars: Episode VI Return of the Jedi   \n",
       "5  Star Wars: Episode VI Return of the Jedi   \n",
       "6  Star Wars: Episode VI Return of the Jedi   \n",
       "7  Star Wars: Episode VI Return of the Jedi   \n",
       "8  Star Wars: Episode VI Return of the Jedi   \n",
       "9  Star Wars: Episode VI Return of the Jedi   \n",
       "\n",
       "  Please rank the Star Wars films in order of preference with 1 being your favorite film in the franchise and 6 being your least favorite film.  \\\n",
       "0           Star Wars: Episode I  The Phantom Menace                                                                                              \n",
       "1                                                  3                                                                                              \n",
       "2                                                NaN                                                                                              \n",
       "3                                                  1                                                                                              \n",
       "4                                                  5                                                                                              \n",
       "5                                                  5                                                                                              \n",
       "6                                                  1                                                                                              \n",
       "7                                                  6                                                                                              \n",
       "8                                                  4                                                                                              \n",
       "9                                                  5                                                                                              \n",
       "\n",
       "   ...         Unnamed: 28       Which character shot first?  \\\n",
       "0  ...                Yoda                          Response   \n",
       "1  ...      Very favorably  I don't understand this question   \n",
       "2  ...                 NaN                               NaN   \n",
       "3  ...    Unfamiliar (N/A)  I don't understand this question   \n",
       "4  ...      Very favorably  I don't understand this question   \n",
       "5  ...  Somewhat favorably                            Greedo   \n",
       "6  ...      Very favorably                               Han   \n",
       "7  ...      Very favorably                               Han   \n",
       "8  ...      Very favorably                               Han   \n",
       "9  ...  Somewhat favorably                               Han   \n",
       "\n",
       "  Are you familiar with the Expanded Universe?  \\\n",
       "0                                     Response   \n",
       "1                                          Yes   \n",
       "2                                          NaN   \n",
       "3                                           No   \n",
       "4                                           No   \n",
       "5                                          Yes   \n",
       "6                                          Yes   \n",
       "7                                          Yes   \n",
       "8                                           No   \n",
       "9                                           No   \n",
       "\n",
       "  Do you consider yourself to be a fan of the Expanded Universe?æ  \\\n",
       "0                                           Response                 \n",
       "1                                                 No                 \n",
       "2                                                NaN                 \n",
       "3                                                NaN                 \n",
       "4                                                NaN                 \n",
       "5                                                 No                 \n",
       "6                                                 No                 \n",
       "7                                                 No                 \n",
       "8                                                NaN                 \n",
       "9                                                NaN                 \n",
       "\n",
       "  Do you consider yourself to be a fan of the Star Trek franchise?    Gender  \\\n",
       "0                                           Response                Response   \n",
       "1                                                 No                    Male   \n",
       "2                                                Yes                    Male   \n",
       "3                                                 No                    Male   \n",
       "4                                                Yes                    Male   \n",
       "5                                                 No                    Male   \n",
       "6                                                Yes                    Male   \n",
       "7                                                 No                    Male   \n",
       "8                                                Yes                    Male   \n",
       "9                                                 No                    Male   \n",
       "\n",
       "        Age     Household Income                         Education  \\\n",
       "0  Response             Response                          Response   \n",
       "1     18-29                  NaN                High school degree   \n",
       "2     18-29         $0 - $24,999                   Bachelor degree   \n",
       "3     18-29         $0 - $24,999                High school degree   \n",
       "4     18-29  $100,000 - $149,999  Some college or Associate degree   \n",
       "5     18-29  $100,000 - $149,999  Some college or Associate degree   \n",
       "6     18-29    $25,000 - $49,999                   Bachelor degree   \n",
       "7     18-29                  NaN                High school degree   \n",
       "8     18-29                  NaN                High school degree   \n",
       "9     18-29         $0 - $24,999  Some college or Associate degree   \n",
       "\n",
       "  Location (Census Region)  \n",
       "0                 Response  \n",
       "1           South Atlantic  \n",
       "2       West South Central  \n",
       "3       West North Central  \n",
       "4       West North Central  \n",
       "5       West North Central  \n",
       "6          Middle Atlantic  \n",
       "7       East North Central  \n",
       "8           South Atlantic  \n",
       "9           South Atlantic  \n",
       "\n",
       "[10 rows x 38 columns]"
      ]
     },
     "execution_count": 1,
     "metadata": {},
     "output_type": "execute_result"
    }
   ],
   "source": [
    "#importing libraries\n",
    "\n",
    "import pandas as pd\n",
    "import numpy as np\n",
    "import seaborn as sns\n",
    "import re\n",
    "import matplotlib.pyplot as plt\n",
    "\n",
    "#reading in csv\n",
    "star_wars = pd.read_csv('star_wars.csv', encoding='ISO-8859-1')\n",
    "star_wars.head(10)"
   ]
  },
  {
   "cell_type": "markdown",
   "metadata": {},
   "source": [
    "Initial observations: \n",
    "- The first row is an identifier row, telling us which characters or movies the `Unnamed` columns represent. Should be removed and isolated to be used to rename some columns.\n",
    "- The column `Do you consider yourself to be a fan of the Expanded Universe?æ` must be renamed because it has some symbols that are informationally irrelevant.\n",
    "- A few columns have all `'Yes'`/`'No'` answers which can be replaced with boolean values (`True`/`False`) to make them easier to work with. \n",
    "- People who have seen <i>none</i> of the Star Wars movies have a lot of `NaN` value answers for that very reason, so anyone who hasn't seen them should be removed and put in their own dataframe, called `unseen_people`; we can remove unnecessary columns (i.e. all `NaN` values) from that dataframe.  "
   ]
  },
  {
   "cell_type": "code",
   "execution_count": 2,
   "metadata": {},
   "outputs": [],
   "source": [
    "#isolating ID row\n",
    "id_row = star_wars.loc[0,:]\n",
    "\n",
    "#renaming column with aberrant character\n",
    "star_wars = star_wars.rename(columns={star_wars.columns[-7]:'Do you consider yourself to be a fan of the Expanded Universe?'})"
   ]
  },
  {
   "cell_type": "code",
   "execution_count": 3,
   "metadata": {},
   "outputs": [],
   "source": [
    "#maps 'Yes' and 'No' strings to 'True'/'False' values respectively\n",
    "yn_boo = {\n",
    "    \"Yes\": True,\n",
    "    \"No\": False\n",
    "}"
   ]
  },
  {
   "cell_type": "code",
   "execution_count": 4,
   "metadata": {},
   "outputs": [],
   "source": [
    "#identifying columns to map\n",
    "bool_cols = ['Have you seen any of the 6 films in the Star Wars franchise?', 'Do you consider yourself to be a fan of the Star Wars film franchise?','Do you consider yourself to be a fan of the Expanded Universe?','Do you consider yourself to be a fan of the Star Trek franchise?']\n",
    "\n",
    "#map columns, assigns back to original dataframe\n",
    "for x in bool_cols:\n",
    "    star_wars[x] = star_wars[x].map(yn_boo)"
   ]
  },
  {
   "cell_type": "code",
   "execution_count": 5,
   "metadata": {},
   "outputs": [],
   "source": [
    "#separates seen/unseen\n",
    "seen_survey = star_wars[star_wars['Have you seen any of the 6 films in the Star Wars franchise?'] == True]\n",
    "unseen_people = star_wars[star_wars['Have you seen any of the 6 films in the Star Wars franchise?'] == False]"
   ]
  },
  {
   "cell_type": "code",
   "execution_count": 6,
   "metadata": {},
   "outputs": [],
   "source": [
    "#creates copies to preserve the original\n",
    "seen_clean = seen_survey.copy()\n",
    "unseen_cleen = unseen_people.copy()"
   ]
  },
  {
   "cell_type": "markdown",
   "metadata": {},
   "source": [
    "<a id=\"deep_clean\"></a>\n",
    "### The Search for Deeper Cleaning in Life\n",
    "Now it's time to clean up the two dataframes. \n",
    "\n",
    "Because we're removing quite a few columns from `unseen_cleen`, it'll be easier to clean that first. For that dataframe, we'll do the following:\n",
    "\n",
    "- Remove `NaN` value-rich columns from `unseen_cleen`.\n"
   ]
  },
  {
   "cell_type": "code",
   "execution_count": 7,
   "metadata": {},
   "outputs": [],
   "source": [
    "#identifying non-NaN columns in unseen_cleen\n",
    "answer_cols = ['RespondentID','Have you seen any of the 6 films in the Star Wars franchise?','Do you consider yourself to be a fan of the Star Trek franchise?','Gender', 'Age', 'Household Income', 'Education','Location (Census Region)']\n",
    "unseen_cleen = unseen_cleen[answer_cols]\n"
   ]
  },
  {
   "cell_type": "code",
   "execution_count": 8,
   "metadata": {},
   "outputs": [
    {
     "data": {
      "text/plain": [
       "Index(['RespondentID',\n",
       "       'Have you seen any of the 6 films in the Star Wars franchise?',\n",
       "       'Do you consider yourself to be a fan of the Star Trek franchise?',\n",
       "       'Gender', 'Age', 'Household Income', 'Education',\n",
       "       'Location (Census Region)'],\n",
       "      dtype='object')"
      ]
     },
     "execution_count": 8,
     "metadata": {},
     "output_type": "execute_result"
    }
   ],
   "source": [
    "unseen_cleen.columns"
   ]
  },
  {
   "cell_type": "markdown",
   "metadata": {},
   "source": [
    "For the `seen_clean`, we will:\n",
    "\n",
    "- Change the `seen_x` columns to `True`/`False` values instead of their current strings. \n",
    "- Rename the `Unnamed X` columns to `seen_x`, `ranking_x`, and `[char_name]`, based on their values in the ID row.\n",
    "- Change the `ranking_x` columns to `float` values.\n",
    "- Change the `char_name` columns to numerical values based on their word answers. "
   ]
  },
  {
   "cell_type": "code",
   "execution_count": 9,
   "metadata": {},
   "outputs": [],
   "source": [
    "#creating dictionary for the seen_x columns, renaming them accordingly, and creating a variable representing the new column names\n",
    "seen_dict = {'Which of the following Star Wars films have you seen? Please select all that apply.':'seen_1','Unnamed: 4':'seen_2','Unnamed: 5':'seen_3','Unnamed: 6':'seen_4','Unnamed: 7':'seen_5','Unnamed: 8':'seen_6'}\n",
    "seen_clean = seen_clean.rename(columns=seen_dict)\n",
    "seen_cols = seen_clean.columns[3:9]\n",
    "\n",
    "#creating copy to avoid accidentally overwriting data by running cell twice \n",
    "seen_cols_strings = seen_clean[seen_cols].copy()\n",
    "\n",
    "#creating a null map to replace the string values in the seen_x columns with boolean values\n",
    "null_map = seen_cols_strings.isnull()==False\n",
    "seen_clean[seen_cols] = null_map\n",
    "\n",
    "#creating dictionary for the ranking_x columns, renaming them accordingly, and creating a variable representing the new column names\n",
    "rank_dict = {'Please rank the Star Wars films in order of preference with 1 being your favorite film in the franchise and 6 being your least favorite film.':'ranking_1',\n",
    "       'Unnamed: 10':'ranking_2', 'Unnamed: 11':'ranking_3', 'Unnamed: 12':'ranking_4', 'Unnamed: 13':'ranking_5',\n",
    "       'Unnamed: 14':'ranking_6'}\n",
    "seen_clean = seen_clean.rename(columns=rank_dict)\n",
    "rank_cols = seen_clean.columns[9:15]\n",
    "\n",
    "#converting the ranking_x columns to floats\n",
    "seen_clean[rank_cols] = seen_clean[rank_cols].astype(float)\n",
    "\n",
    "#creating dictionary for the character_name columns, renaming them accordingly, and creating a variable representing the new column names\n",
    "char_dict = id_row[-23:-9].to_dict()\n",
    "seen_clean = seen_clean.rename(columns=char_dict)\n",
    "char_cols = seen_clean.columns[-23:-9]\n",
    "\n",
    "#creating dictionary for character ranks\n",
    "ranking_value_dict = {\n",
    "    'Very favorably':5, \n",
    "    'Unfamiliar (N/A)':np.nan, \n",
    "    'Somewhat favorably':4,\n",
    "    'Very unfavorably':1, \n",
    "    'Neither favorably nor unfavorably (neutral)':3,\n",
    "    'Somewhat unfavorably':2}\n",
    "\n",
    "#mapping the new values\n",
    "for x in char_cols:\n",
    "    seen_clean[x] = seen_clean[x].map(ranking_value_dict)"
   ]
  },
  {
   "cell_type": "markdown",
   "metadata": {},
   "source": [
    "<a id = 'spot_sweep'></a>\n",
    "# Recombination and Spot Cleaning\n",
    "Now we'll recombine the cleaned data so we can work with the general population first so we can observe the aberrations in other groups. \n",
    "\n",
    "- Anything with a `NaN` value in the `Age` column has `NaN` for all of the other demographic and other data we're interested in so we can remove them too.\n",
    "- The first plot to look at will simply be the demographics breakdown so we have something to reference.\n",
    "- The next two plots will show which movie was ranked highest on average, and which was seen the most. "
   ]
  },
  {
   "cell_type": "code",
   "execution_count": 10,
   "metadata": {},
   "outputs": [],
   "source": [
    "#concatenating cleaned dataframes to identify rankings and any information about the population surveyed as a whole (e.g., avg income, age, etc.) \n",
    "    #to check how other groups may deviate from those averages\n",
    "clean_both = pd.concat([seen_clean, unseen_cleen], axis=0)\n",
    "\n",
    "#creating a variable that represents the demographics columns names for easy calling of demographics data\n",
    "demographic_cols = clean_both.columns[-5:]\n",
    "\n",
    "#removing any rows where 'Age' is a `Nan` value, because the corresponding demographic data is ostensibly missing\n",
    "clean_both = clean_both[clean_both['Age'].isnull()==False]"
   ]
  },
  {
   "cell_type": "code",
   "execution_count": 11,
   "metadata": {},
   "outputs": [],
   "source": [
    "#extracting the percentage of each movie seen and each average rank from seen_clean\n",
    "seen_per = seen_clean[seen_cols].mean()*100\n",
    "rank_mean = seen_clean[rank_cols].mean()"
   ]
  },
  {
   "cell_type": "code",
   "execution_count": 12,
   "metadata": {},
   "outputs": [
    {
     "data": {
      "text/plain": [
       "ranking_1    3.732934\n",
       "ranking_2    4.087321\n",
       "ranking_3    4.341317\n",
       "ranking_4    3.272727\n",
       "ranking_5    2.513158\n",
       "ranking_6    3.047847\n",
       "dtype: float64"
      ]
     },
     "execution_count": 12,
     "metadata": {},
     "output_type": "execute_result"
    }
   ],
   "source": [
    "rank_mean"
   ]
  },
  {
   "cell_type": "code",
   "execution_count": 13,
   "metadata": {},
   "outputs": [
    {
     "data": {
      "text/plain": [
       "seen_1    71.901709\n",
       "seen_2    61.004274\n",
       "seen_3    58.760684\n",
       "seen_4    64.850427\n",
       "seen_5    80.982906\n",
       "seen_6    78.846154\n",
       "dtype: float64"
      ]
     },
     "execution_count": 13,
     "metadata": {},
     "output_type": "execute_result"
    }
   ],
   "source": [
    "seen_per"
   ]
  },
  {
   "cell_type": "code",
   "execution_count": 14,
   "metadata": {},
   "outputs": [],
   "source": [
    "#creating a list of the movies to form an index for both the seen_per column and the rank_mean column\n",
    "movie_list = ['episode_1', 'episode_2', 'episode_3', 'episode_4', 'episode_5', 'episode_6']\n",
    "\n",
    "#creating column name list\n",
    "sr_cols = ['seen','rank']\n",
    "\n",
    "#using those lists to create an empty dataframe with desired index and column names\n",
    "movies_seen_rank = pd.DataFrame(index=movie_list, columns = sr_cols)\n",
    "\n",
    "#naming the index\n",
    "movies_seen_rank.index.name = 'episode'\n",
    "\n",
    "#populating the dataframe\n",
    "for x in range(0,6):\n",
    "    movies_seen_rank['seen'][x] = seen_per.iloc[x]\n",
    "    movies_seen_rank['rank'][x] = rank_mean.iloc[x]"
   ]
  },
  {
   "cell_type": "code",
   "execution_count": 15,
   "metadata": {},
   "outputs": [
    {
     "data": {
      "image/png": "[encoded data removed]",
      "text/plain": [
       "<Figure size 432x288 with 1 Axes>"
      ]
     },
     "metadata": {
      "needs_background": "light"
     },
     "output_type": "display_data"
    }
   ],
   "source": [
    "sns.barplot(x=movies_seen_rank.index, y='seen', palette=\"Blues_d\",data=movies_seen_rank).set(xlabel='Episode', ylabel='Percent Seen');"
   ]
  },
  {
   "cell_type": "code",
   "execution_count": 16,
   "metadata": {},
   "outputs": [
    {
     "data": {
      "image/png": "[encoded data removed]",
      "text/plain": [
       "<Figure size 432x288 with 1 Axes>"
      ]
     },
     "metadata": {
      "needs_background": "light"
     },
     "output_type": "display_data"
    }
   ],
   "source": [
    "sns.barplot(x=movies_seen_rank.index, y='rank',palette=\"Blues_d\", data=movies_seen_rank).set(xlabel='Episode', ylabel='Average Rank');"
   ]
  },
  {
   "cell_type": "markdown",
   "metadata": {},
   "source": [
    "It's initially apparent that Episode V was both the most seen and the highest ranked, which makes a lot of sense; the first movie drew excitement so more people went to see the sequel. The first question, the one FiveThirtyEight set out to answer, seems to be resolved right here: the average person surveyed agreed that <i>The Empire Strikes Back</i> is the best of the bunch. "
   ]
  },
  {
   "cell_type": "markdown",
   "metadata": {},
   "source": [
    "<a id = 'demographics'></a>\n",
    "# Demographics\n",
    "First we'll take a quick look at the general demographics data for those surveyed, to get a general understanding of the data we're working with. "
   ]
  },
  {
   "cell_type": "code",
   "execution_count": 17,
   "metadata": {},
   "outputs": [
    {
     "data": {
      "image/png": "[encoded data removed]",
      "text/plain": [
       "<Figure size 1512x504 with 4 Axes>"
      ]
     },
     "metadata": {
      "needs_background": "light"
     },
     "output_type": "display_data"
    }
   ],
   "source": [
    "#creating a figure to house the demographics plots\n",
    "fig = plt.figure(figsize=(21,7))\n",
    "\n",
    "#creating four axes to house our subplots\n",
    "ax1 = fig.add_subplot(221)\n",
    "ax2 = fig.add_subplot(222)\n",
    "ax3 = fig.add_subplot(223)\n",
    "ax4 = fig.add_subplot(224)\n",
    "\n",
    "#titles the full figure\n",
    "fig.suptitle('General Demographics')\n",
    "\n",
    "#education count subplot\n",
    "ax1.barh(clean_both['Education'].value_counts().index, (clean_both['Education'].value_counts().values))\n",
    "ax1.set_title('Education Count')\n",
    "\n",
    "#household count subplot\n",
    "ax2.barh(clean_both['Household Income'].value_counts().index, (clean_both['Household Income'].value_counts().values))\n",
    "ax2.set_title('Household Income Count')\n",
    "\n",
    "#age count subplot\n",
    "ax3.barh(clean_both['Age'].value_counts().index, (clean_both['Age'].value_counts().values))\n",
    "ax3.set_title('Age Count')\n",
    "\n",
    "#sex subplot\n",
    "ax4.barh(clean_both['Gender'].value_counts().index, (clean_both['Gender'].value_counts().values))\n",
    "ax4.set_title('Sex Count');"
   ]
  },
  {
   "cell_type": "markdown",
   "metadata": {},
   "source": [
    "Next step we can isolate all of the various demographics into their own dataframes for easy comparisons."
   ]
  },
  {
   "cell_type": "code",
   "execution_count": 18,
   "metadata": {},
   "outputs": [],
   "source": [
    "#isolating by sex\n",
    "male_seen = seen_clean[seen_clean['Gender']=='Male']\n",
    "female_seen = seen_clean[seen_clean['Gender']=='Female']\n",
    "\n",
    "#isolating by Household Income\n",
    "poor_seen = seen_clean[seen_clean['Household Income'] == '$0 - $24,999']\n",
    "lowmid_seen = seen_clean[seen_clean['Household Income'] == '$25,000 - $49,999']\n",
    "upmid_seen = seen_clean[seen_clean['Household Income'] == '$100,000 - $149,999']\n",
    "rich_seen = seen_clean[seen_clean['Household Income'] == '$150,000+']\n",
    "all_income = [poor_seen, lowmid_seen, upmid_seen, rich_seen]\n",
    "\n",
    "#isolating by Age\n",
    "youngest_seen = seen_clean[seen_clean['Age'] == '18-29']\n",
    "young_seen = seen_clean[seen_clean['Age'] == '30-44']\n",
    "old_seen = seen_clean[seen_clean['Age'] == '45-60']\n",
    "oldest_seen = seen_clean[seen_clean['Age'] == '> 60']\n",
    "all_ages = [youngest_seen, young_seen, old_seen, oldest_seen]\n",
    "\n",
    "#isolating by education\n",
    "hs_drop_seen = seen_clean[seen_clean['Education']=='Less than high school degree']\n",
    "ged_seen= seen_clean[seen_clean['Education'] == 'High school degree']\n",
    "some_college_seen = seen_clean[seen_clean['Education'] == 'Some college or Associate degree']\n",
    "bach_seen = seen_clean[seen_clean['Education'] == 'Bachelor degree']\n",
    "grad_seen = seen_clean[seen_clean['Education'] == 'Graduate degree']\n",
    "all_education = [hs_drop_seen, ged_seen, some_college_seen, bach_seen, grad_seen]"
   ]
  },
  {
   "cell_type": "markdown",
   "metadata": {},
   "source": [
    "Below we'll define a function to extract all of the ranking data and seen percentages from any given demographic set and return it in a neat, unique dataframe. "
   ]
  },
  {
   "cell_type": "code",
   "execution_count": 19,
   "metadata": {},
   "outputs": [],
   "source": [
    "def seen_rank(x):\n",
    "    #extracting the percentage of each movie seen and each average rank from x\n",
    "    seen_per_x = x[seen_cols].mean()*100\n",
    "    rank_mean_x = x[rank_cols].mean()\n",
    "\n",
    "    \n",
    "    #creating a list of the movies to form an index for both the seen_per column and the rank_mean column: \n",
    "    movie_list = ['episode_1', 'episode_2', 'episode_3', 'episode_4', 'episode_5', 'episode_6']\n",
    "    #creating column name list: \n",
    "    sr_cols = ['seen','rank']\n",
    "    #using those lists to create an empty dataframe with desired index and column names\n",
    "    movies_seen_rank_x = pd.DataFrame(index=movie_list, columns = sr_cols)\n",
    "\n",
    "    #naming the index\n",
    "    movies_seen_rank.index.name = 'episode'\n",
    "\n",
    "    #populating the dataframe\n",
    "    for z in range(0,6):\n",
    "        movies_seen_rank_x['seen'][z] = seen_per_x.iloc[z]\n",
    "        movies_seen_rank_x['rank'][z] = rank_mean_x.iloc[z]\n",
    "\n",
    "    return movies_seen_rank_x"
   ]
  },
  {
   "cell_type": "markdown",
   "metadata": {},
   "source": [
    "## Sex\n",
    "First demographic to take a look at is sex. We'll see if males and females tend to agree or disagree on their movie rankings and which ones they've seen most. Then we can see whether Star Trek or Star Wars is preferred, and then finally we'll take a look at character preferences"
   ]
  },
  {
   "cell_type": "code",
   "execution_count": 20,
   "metadata": {},
   "outputs": [],
   "source": [
    "#getting seen + rank values for individual demographics\n",
    "seen_rank_male = seen_rank(male_seen)\n",
    "seen_rank_female = seen_rank(female_seen)\n",
    "\n",
    "#unifying for reference\n",
    "both_sex = [seen_rank_female, seen_rank_male]\n",
    "\n",
    "#combining them into a multiindex dataframe\n",
    "sex_combined = pd.concat(both_sex, keys=['Female', 'Male'], axis=0).reset_index(level=1)"
   ]
  },
  {
   "cell_type": "code",
   "execution_count": 21,
   "metadata": {},
   "outputs": [
    {
     "data": {
      "image/png": "[encoded data removed]",
      "text/plain": [
       "<Figure size 432x288 with 1 Axes>"
      ]
     },
     "metadata": {
      "needs_background": "light"
     },
     "output_type": "display_data"
    }
   ],
   "source": [
    "sns.barplot(x='level_1', y='seen', hue=sex_combined.index, data=sex_combined).set(xlabel='Episode', ylabel='Percentage seen');"
   ]
  },
  {
   "cell_type": "code",
   "execution_count": 22,
   "metadata": {
    "collapsed": true,
    "jupyter": {
     "outputs_hidden": true,
     "source_hidden": true
    }
   },
   "outputs": [
    {
     "data": {
      "image/png": "[encoded data removed]",
      "text/plain": [
       "<Figure size 432x288 with 1 Axes>"
      ]
     },
     "metadata": {
      "needs_background": "light"
     },
     "output_type": "display_data"
    }
   ],
   "source": [
    "#sns.barplot(x='level_1', y='rank', hue=sex_combined.index, data=sex_combined).set(xlabel='Episode', ylabel='Average Rank');"
   ]
  },
  {
   "cell_type": "code",
   "execution_count": 71,
   "metadata": {},
   "outputs": [],
   "source": [
    "#grouping ranking columns' names with the one for the demographic of interest\n",
    "rank_and_sex = ['ranking_1', 'ranking_2', 'ranking_3', 'ranking_4', 'ranking_5',\n",
    "       'ranking_6','Gender']\n",
    "\n",
    "#creating an empty series to populate\n",
    "sex_rank_series = pd.Series(dtype='float')\n",
    "\n",
    "#pulls a slice of data regarding the ranks of one episode\n",
    "def get_ranking(val):\n",
    "    return getattr(clean_both[rank_and_sex].groupby(['Gender']), \"ranking_\"+val).value_counts()\n",
    "\n",
    "#one big dataframe containing slices of data for each episode\n",
    "sex_ranks_by_episode = [get_ranking(str(i)) for i in range(1,7)]\n",
    "\n",
    "#for loop iterates over data slices, concatenates into a multi-index dataframe, then populates them with the value counts, episode numbers, etc.\n",
    "for x in np.arange(1,7):\n",
    "    ep = sex_ranks_by_episode[(x-1)]\n",
    "    sr_concat = pd.concat({'episode_{num}'.format(num=x):ep}, names=['Episode', 'Gender', 'Ranking'])\n",
    "    sex_rank_series = sex_rank_series.append(sr_concat)\n",
    "    sex_rank_index = pd.MultiIndex.from_tuples(sex_rank_series.index, names=['Episode', 'Gender', 'Ranking'])   \n",
    "\n",
    "#takes the sex_rank_series index ( aseries of tuples) and creates a multi-index series for easier graphing\n",
    "mf_rank = pd.DataFrame(data={'val':sex_rank_series.values}, index=sex_rank_index).reset_index()"
   ]
  },
  {
   "cell_type": "code",
   "execution_count": 100,
   "metadata": {},
   "outputs": [],
   "source": [
    "#generates gender masks\n",
    "fem_mask = mf_rank['Gender']=='Female'\n",
    "male_mask = mf_rank['Gender']=='Male'\n",
    "\n",
    "#applies percentage conversion\n",
    "f_rank_per = mf_rank.mask(fem_mask, (mf_rank['val']/female_seen.shape[0])*100, axis=0)\n",
    "m_rank_per = mf_rank.mask(male_mask, (mf_rank['val']/male_seen.shape[0])*100, axis=0)\n",
    "\n",
    "#for ease of reference\n",
    "f_rank_col = f_rank_per['val']\n",
    "m_rank_col = m_rank_per['val']\n",
    "\n",
    "#adds the percentages \n",
    "mf_rank['rank_per'] =f_rank_col[f_rank_per['Gender']!='Male']\n",
    "mf_rank['rank_per']= mf_rank['rank_per'].fillna(m_rank_col[m_rank_per['Gender']!='Female'])"
   ]
  },
  {
   "cell_type": "code",
   "execution_count": 102,
   "metadata": {},
   "outputs": [
    {
     "data": {
      "text/html": [
       "<div>\n",
       "<style scoped>\n",
       "    .dataframe tbody tr th:only-of-type {\n",
       "        vertical-align: middle;\n",
       "    }\n",
       "\n",
       "    .dataframe tbody tr th {\n",
       "        vertical-align: top;\n",
       "    }\n",
       "\n",
       "    .dataframe thead th {\n",
       "        text-align: right;\n",
       "    }\n",
       "</style>\n",
       "<table border=\"1\" class=\"dataframe\">\n",
       "  <thead>\n",
       "    <tr style=\"text-align: right;\">\n",
       "      <th></th>\n",
       "      <th>Episode</th>\n",
       "      <th>Gender</th>\n",
       "      <th>Ranking</th>\n",
       "      <th>val</th>\n",
       "      <th>rank_per</th>\n",
       "    </tr>\n",
       "  </thead>\n",
       "  <tbody>\n",
       "    <tr>\n",
       "      <th>0</th>\n",
       "      <td>30.2267</td>\n",
       "      <td>30.2267</td>\n",
       "      <td>30.226700</td>\n",
       "      <td>30.226700</td>\n",
       "      <td>30.226700</td>\n",
       "    </tr>\n",
       "    <tr>\n",
       "      <th>1</th>\n",
       "      <td>19.6474</td>\n",
       "      <td>19.6474</td>\n",
       "      <td>19.647355</td>\n",
       "      <td>19.647355</td>\n",
       "      <td>19.647355</td>\n",
       "    </tr>\n",
       "    <tr>\n",
       "      <th>2</th>\n",
       "      <td>16.3728</td>\n",
       "      <td>16.3728</td>\n",
       "      <td>16.372796</td>\n",
       "      <td>16.372796</td>\n",
       "      <td>16.372796</td>\n",
       "    </tr>\n",
       "    <tr>\n",
       "      <th>3</th>\n",
       "      <td>13.0982</td>\n",
       "      <td>13.0982</td>\n",
       "      <td>13.098237</td>\n",
       "      <td>13.098237</td>\n",
       "      <td>13.098237</td>\n",
       "    </tr>\n",
       "    <tr>\n",
       "      <th>4</th>\n",
       "      <td>11.5869</td>\n",
       "      <td>11.5869</td>\n",
       "      <td>11.586902</td>\n",
       "      <td>11.586902</td>\n",
       "      <td>11.586902</td>\n",
       "    </tr>\n",
       "    <tr>\n",
       "      <th>...</th>\n",
       "      <td>...</td>\n",
       "      <td>...</td>\n",
       "      <td>...</td>\n",
       "      <td>...</td>\n",
       "      <td>...</td>\n",
       "    </tr>\n",
       "    <tr>\n",
       "      <th>67</th>\n",
       "      <td>episode_6</td>\n",
       "      <td>Male</td>\n",
       "      <td>2.000000</td>\n",
       "      <td>115.000000</td>\n",
       "      <td>27.186761</td>\n",
       "    </tr>\n",
       "    <tr>\n",
       "      <th>68</th>\n",
       "      <td>episode_6</td>\n",
       "      <td>Male</td>\n",
       "      <td>1.000000</td>\n",
       "      <td>67.000000</td>\n",
       "      <td>15.839243</td>\n",
       "    </tr>\n",
       "    <tr>\n",
       "      <th>69</th>\n",
       "      <td>episode_6</td>\n",
       "      <td>Male</td>\n",
       "      <td>6.000000</td>\n",
       "      <td>58.000000</td>\n",
       "      <td>13.711584</td>\n",
       "    </tr>\n",
       "    <tr>\n",
       "      <th>70</th>\n",
       "      <td>episode_6</td>\n",
       "      <td>Male</td>\n",
       "      <td>4.000000</td>\n",
       "      <td>30.000000</td>\n",
       "      <td>7.092199</td>\n",
       "    </tr>\n",
       "    <tr>\n",
       "      <th>71</th>\n",
       "      <td>episode_6</td>\n",
       "      <td>Male</td>\n",
       "      <td>5.000000</td>\n",
       "      <td>23.000000</td>\n",
       "      <td>5.437352</td>\n",
       "    </tr>\n",
       "  </tbody>\n",
       "</table>\n",
       "<p>72 rows × 5 columns</p>\n",
       "</div>"
      ],
      "text/plain": [
       "      Episode   Gender    Ranking         val   rank_per\n",
       "0     30.2267  30.2267  30.226700   30.226700  30.226700\n",
       "1     19.6474  19.6474  19.647355   19.647355  19.647355\n",
       "2     16.3728  16.3728  16.372796   16.372796  16.372796\n",
       "3     13.0982  13.0982  13.098237   13.098237  13.098237\n",
       "4     11.5869  11.5869  11.586902   11.586902  11.586902\n",
       "..        ...      ...        ...         ...        ...\n",
       "67  episode_6     Male   2.000000  115.000000  27.186761\n",
       "68  episode_6     Male   1.000000   67.000000  15.839243\n",
       "69  episode_6     Male   6.000000   58.000000  13.711584\n",
       "70  episode_6     Male   4.000000   30.000000   7.092199\n",
       "71  episode_6     Male   5.000000   23.000000   5.437352\n",
       "\n",
       "[72 rows x 5 columns]"
      ]
     },
     "execution_count": 102,
     "metadata": {},
     "output_type": "execute_result"
    }
   ],
   "source": [
    "f_rank_per"
   ]
  },
  {
   "cell_type": "code",
   "execution_count": 96,
   "metadata": {},
   "outputs": [],
   "source": [
    "top_3 = mf_rank[mf_rank['Ranking']<4]"
   ]
  },
  {
   "cell_type": "code",
   "execution_count": 97,
   "metadata": {},
   "outputs": [
    {
     "data": {
      "image/png": "[encoded data removed]",
      "text/plain": [
       "<Figure size 772x360 with 2 Axes>"
      ]
     },
     "metadata": {
      "needs_background": "light"
     },
     "output_type": "display_data"
    }
   ],
   "source": [
    "sns.catplot(x='Episode', y='rank_per', hue='Ranking', col='Gender', kind='bar', orient='v', data=mf_rank, palette='viridis');"
   ]
  },
  {
   "cell_type": "code",
   "execution_count": 98,
   "metadata": {},
   "outputs": [
    {
     "data": {
      "image/png": "[encoded data removed]",
      "text/plain": [
       "<Figure size 772x360 with 2 Axes>"
      ]
     },
     "metadata": {
      "needs_background": "light"
     },
     "output_type": "display_data"
    }
   ],
   "source": [
    "sns.catplot(x='Episode', y='rank_per', hue='Ranking', col='Gender', kind='bar', orient='v', data=top_3, palette='viridis');"
   ]
  },
  {
   "cell_type": "code",
   "execution_count": 112,
   "metadata": {},
   "outputs": [
    {
     "name": "stdout",
     "output_type": "stream",
     "text": [
      "0.45591939546599497\n",
      "0.5437352245862884\n"
     ]
    }
   ],
   "source": [
    "#percentage fans of Star Trek\n",
    "print(female_seen[female_seen.columns[-6]].sum()/397)\n",
    "print(male_seen[male_seen.columns[-6]].sum()/423)"
   ]
  },
  {
   "cell_type": "code",
   "execution_count": 33,
   "metadata": {},
   "outputs": [],
   "source": [
    "#isolating means by sex\n",
    "male_means=male_seen[char_cols].mean()\n",
    "female_means=female_seen[char_cols].mean()\n",
    "\n",
    "#combining for reference\n",
    "both_means = [male_means, female_means]\n",
    "\n",
    "#combining them into a multiindex dataframe\n",
    "mf_means = pd.concat(both_means, keys=['Male', 'Female'], axis=0).reset_index(level=1)\n",
    "mf_means = mf_means.rename(columns={mf_means.columns[1]:'avg_rank'})\n",
    "\n",
    "#sorting by average rank\n",
    "mf_means_sorted = mf_means.sort_values(by=['avg_rank'])\n",
    "\n",
    "#isolating all characters with an average rank above a 4\n",
    "mf_means_high = mf_means_sorted[mf_means_sorted['avg_rank']>4]"
   ]
  },
  {
   "cell_type": "code",
   "execution_count": 82,
   "metadata": {},
   "outputs": [
    {
     "data": {
      "image/png": "[encoded data removed]",
      "text/plain": [
       "<Figure size 432x288 with 1 Axes>"
      ]
     },
     "metadata": {
      "needs_background": "light"
     },
     "output_type": "display_data"
    }
   ],
   "source": [
    "sns.barplot(x='avg_rank', y='level_1', hue=mf_means_sorted.index, data=mf_means_sorted, orient='h', palette='rocket', alpha =0.7).set(xlabel='Character', ylabel='Average Rating (Out of 5)', xlim=(2.5,5) );"
   ]
  },
  {
   "cell_type": "code",
   "execution_count": 83,
   "metadata": {},
   "outputs": [
    {
     "data": {
      "image/png": "[encoded data removed]",
      "text/plain": [
       "<Figure size 432x288 with 1 Axes>"
      ]
     },
     "metadata": {
      "needs_background": "light"
     },
     "output_type": "display_data"
    }
   ],
   "source": [
    "sns.barplot(x='avg_rank', y='level_1', hue=mf_means_high.index, data=mf_means_high, orient='h', palette='rocket', alpha =0.7).set(xlabel='Character', ylabel='Average Rating (Out of 5)', xlim=(4.2,4.8) );"
   ]
  },
  {
   "cell_type": "markdown",
   "metadata": {},
   "source": [
    "Interestingly enough, it appears that males and females tend to rank Star Wars characters' favorability relatively equally with the singular exception that females overwhelmingly favor R2-D2 over males. "
   ]
  },
  {
   "cell_type": "code",
   "execution_count": 36,
   "metadata": {},
   "outputs": [
    {
     "data": {
      "text/plain": [
       "Index(['RespondentID',\n",
       "       'Have you seen any of the 6 films in the Star Wars franchise?',\n",
       "       'Do you consider yourself to be a fan of the Star Wars film franchise?',\n",
       "       'seen_1', 'seen_2', 'seen_3', 'seen_4', 'seen_5', 'seen_6', 'ranking_1',\n",
       "       'ranking_2', 'ranking_3', 'ranking_4', 'ranking_5', 'ranking_6',\n",
       "       'Han Solo', 'Luke Skywalker', 'Princess Leia Organa',\n",
       "       'Anakin Skywalker', 'Obi Wan Kenobi', 'Emperor Palpatine',\n",
       "       'Darth Vader', 'Lando Calrissian', 'Boba Fett', 'C-3P0', 'R2 D2',\n",
       "       'Jar Jar Binks', 'Padme Amidala', 'Yoda', 'Which character shot first?',\n",
       "       'Are you familiar with the Expanded Universe?',\n",
       "       'Do you consider yourself to be a fan of the Expanded Universe?',\n",
       "       'Do you consider yourself to be a fan of the Star Trek franchise?',\n",
       "       'Gender', 'Age', 'Household Income', 'Education',\n",
       "       'Location (Census Region)'],\n",
       "      dtype='object')"
      ]
     },
     "execution_count": 36,
     "metadata": {},
     "output_type": "execute_result"
    }
   ],
   "source": [
    "clean_both.columns"
   ]
  },
  {
   "cell_type": "code",
   "execution_count": 84,
   "metadata": {},
   "outputs": [],
   "source": [
    "#isolating the question and demographic of interest\n",
    "trek_sex = clean_both[['Do you consider yourself to be a fan of the Star Trek franchise?','Gender']]\n",
    "\n",
    "#isolating by demographic grouping\n",
    "male_trek = trek_sex[trek_sex['Gender']=='Male'] #497\n",
    "fem_trek = trek_sex[trek_sex['Gender']=='Female'] #549\n",
    "\n",
    "#percentage values\n",
    "fem_trek_per = fem_trek[fem_trek.columns[0]].sum()/fem_trek.shape[0]\n",
    "male_trek_per = male_trek[male_trek.columns[0]].sum()/male_trek.shape[0]"
   ]
  },
  {
   "cell_type": "markdown",
   "metadata": {},
   "source": [
    "<a id='age'></a>\n",
    "## Age\n"
   ]
  },
  {
   "cell_type": "code",
   "execution_count": 105,
   "metadata": {},
   "outputs": [],
   "source": [
    "#getting seen + rank values for individual demographics\n",
    "seen_rank_youngest = seen_rank(youngest_seen)\n",
    "seen_rank_young = seen_rank(young_seen)\n",
    "seen_rank_old = seen_rank(old_seen)\n",
    "seen_rank_oldest = seen_rank(oldest_seen)\n",
    "\n",
    "#unifying for reference\n",
    "all_ages_seen = [seen_rank_youngest, seen_rank_young, seen_rank_old, seen_rank_oldest]\n",
    "\n",
    "#combining them into a multiindex dataframe\n",
    "age_combined = pd.concat(all_ages_seen, keys=['Youngest', 'Young', 'Oldest', 'Old'], axis=0).reset_index(level=1)\n",
    "\n",
    "#creating column titles\n",
    "col_titles = ['age','episode','seen','rank']\n",
    "\n",
    "#resetting the index\n",
    "age_work = age_combined.reset_index()\n",
    "\n",
    "#renaming the columns\n",
    "age_work= age_work.rename(columns={'index':'age', 'level_1':'episode'})"
   ]
  },
  {
   "cell_type": "code",
   "execution_count": 106,
   "metadata": {},
   "outputs": [
    {
     "data": {
      "image/png": "[encoded data removed]",
      "text/plain": [
       "<Figure size 441x360 with 1 Axes>"
      ]
     },
     "metadata": {
      "needs_background": "light"
     },
     "output_type": "display_data"
    }
   ],
   "source": [
    "sns.catplot(x='episode', y='seen', hue='age', data=age_work, kind='bar', palette='viridis');"
   ]
  },
  {
   "cell_type": "code",
   "execution_count": 107,
   "metadata": {},
   "outputs": [],
   "source": [
    "#grouping ranking columns' names with the one for the demographic of interest\n",
    "rank_and_age = ['ranking_1', 'ranking_2', 'ranking_3', 'ranking_4', 'ranking_5',\n",
    "       'ranking_6','Age']\n",
    "\n",
    "#naming age groups\n",
    "age_names = ['Youngest','Young', ]\n",
    "#creating an empty series to populate\n",
    "age_rank_series = pd.Series(dtype='float')\n",
    "\n",
    "#pulls a slice of data regarding the ranks of one episode\n",
    "def get_ranking_all(val,rank_and_demo,demo_string):\n",
    "    return getattr(clean_both[rank_and_demo].groupby([demo_string]), \"ranking_\"+val).value_counts()\n",
    "\n",
    "#one big dataframe containing slices of data for each episode\n",
    "age_ranks_by_episode = [get_ranking_all(str(i), rank_and_age, 'Age') for i in range(1,7)]\n",
    "\n",
    "#for loop iterates over data slices, concatenates into a multi-index dataframe, then populates them with the value counts, episode numbers, etc.\n",
    "for x in np.arange(1,7):\n",
    "    ep = age_ranks_by_episode[(x-1)]\n",
    "    sr_concat = pd.concat({'episode_{num}'.format(num=x):ep}, names=['Episode', 'Age', 'Ranking'])\n",
    "    age_rank_series = age_rank_series.append(sr_concat)\n",
    "    age_rank_index = pd.MultiIndex.from_tuples(age_rank_series.index, names=['Episode', 'Age', 'Ranking'])   \n",
    "\n",
    "#takes the sex_rank_series index ( aseries of tuples) and creates a multi-index series for easier graphing\n",
    "all_ages_rank = pd.DataFrame(data={'val':age_rank_series.values}, index=age_rank_index).reset_index()\n",
    "all_ages_rank['rank_per'] = np.nan\n",
    "\n",
    "#grabbing this number for reference\n",
    "age_length = clean_both['Age'].unique().shape[0]\n",
    "\n",
    "# for loop sorts ages and ranks into a dataframe\n",
    "for x in np.arange(0,age_length):\n",
    "    age = clean_both['Age'].unique()[x]\n",
    "    mask = all_ages_rank['Age']==age\n",
    "    rank_masked = all_ages_rank.mask(mask,(all_ages_rank['val']/all_ages[x].shape[0])*100,axis=0)\n",
    "    rank_col = rank_masked['rank_per']\n",
    "    all_ages_rank.loc[mask, 'rank_per'] = all_ages_rank.loc[mask, 'rank_per'].fillna(rank_col[mask])\n",
    "    \n",
    "#isolating only ranking data for things ranked within the top 3\n",
    "all_ages_top3 = all_ages_rank[all_ages_rank['Ranking']<4]"
   ]
  },
  {
   "cell_type": "code",
   "execution_count": 108,
   "metadata": {},
   "outputs": [
    {
     "data": {
      "image/png": "[encoded data removed]",
      "text/plain": [
       "<Figure size 1492x360 with 4 Axes>"
      ]
     },
     "metadata": {
      "needs_background": "light"
     },
     "output_type": "display_data"
    }
   ],
   "source": [
    "sns.catplot(x='Episode', y='rank_per', hue='Ranking', col = 'Age', data=all_ages_rank, kind='bar', palette='viridis');"
   ]
  },
  {
   "cell_type": "code",
   "execution_count": 109,
   "metadata": {},
   "outputs": [
    {
     "data": {
      "image/png": "[encoded data removed]",
      "text/plain": [
       "<Figure size 1492x360 with 4 Axes>"
      ]
     },
     "metadata": {
      "needs_background": "light"
     },
     "output_type": "display_data"
    }
   ],
   "source": [
    "sns.catplot(x='Episode', y='rank_per', hue='Ranking', col = 'Age', data=all_ages_top3, kind='bar', palette='viridis');"
   ]
  },
  {
   "cell_type": "code",
   "execution_count": null,
   "metadata": {},
   "outputs": [],
   "source": []
  }
 ],
 "metadata": {
  "kernelspec": {
   "display_name": "Python 3",
   "language": "python",
   "name": "python3"
  },
  "language_info": {
   "codemirror_mode": {
    "name": "ipython",
    "version": 3
   },
   "file_extension": ".py",
   "mimetype": "text/x-python",
   "name": "python",
   "nbconvert_exporter": "python",
   "pygments_lexer": "ipython3",
   "version": "3.8.3"
  }
 },
 "nbformat": 4,
 "nbformat_minor": 4
}
